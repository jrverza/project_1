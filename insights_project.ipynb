{
 "cells": [
  {
   "cell_type": "markdown",
   "id": "889869d7",
   "metadata": {},
   "source": [
    "# importação"
   ]
  },
  {
   "cell_type": "code",
   "execution_count": 1,
   "id": "93daf1c1",
   "metadata": {
    "ExecuteTime": {
     "end_time": "2021-07-12T12:06:34.566156Z",
     "start_time": "2021-07-12T12:06:24.655106Z"
    }
   },
   "outputs": [],
   "source": [
    "import pandas as pd\n",
    "import numpy as np\n",
    "import plotly.express as px\n",
    "import ipywidgets as widgets\n",
    "import matplotlib.pyplot as plt\n",
    "import warnings\n",
    "\n",
    "from datetime import datetime\n",
    "from ipywidgets import fixed\n",
    "from IPython.core.display import HTML #para a função jupyter_settings\n",
    "\n",
    "warnings.filterwarnings('ignore') #ignora mensagens de warning \n"
   ]
  },
  {
   "cell_type": "code",
   "execution_count": 2,
   "id": "a72badb5",
   "metadata": {
    "ExecuteTime": {
     "end_time": "2021-07-12T12:06:34.592694Z",
     "start_time": "2021-07-12T12:06:34.572253Z"
    }
   },
   "outputs": [
    {
     "data": {
      "text/plain": [
       "['Solarize_Light2',\n",
       " '_classic_test_patch',\n",
       " 'bmh',\n",
       " 'bright',\n",
       " 'cjk-jp-font',\n",
       " 'cjk-kr-font',\n",
       " 'cjk-sc-font',\n",
       " 'cjk-tc-font',\n",
       " 'classic',\n",
       " 'dark_background',\n",
       " 'fast',\n",
       " 'fivethirtyeight',\n",
       " 'ggplot',\n",
       " 'grayscale',\n",
       " 'grid',\n",
       " 'high-contrast',\n",
       " 'high-vis',\n",
       " 'ieee',\n",
       " 'latex-sans',\n",
       " 'light',\n",
       " 'muted',\n",
       " 'nature',\n",
       " 'no-latex',\n",
       " 'notebook',\n",
       " 'pgf',\n",
       " 'retro',\n",
       " 'scatter',\n",
       " 'science',\n",
       " 'seaborn',\n",
       " 'seaborn-bright',\n",
       " 'seaborn-colorblind',\n",
       " 'seaborn-dark',\n",
       " 'seaborn-dark-palette',\n",
       " 'seaborn-darkgrid',\n",
       " 'seaborn-deep',\n",
       " 'seaborn-muted',\n",
       " 'seaborn-notebook',\n",
       " 'seaborn-paper',\n",
       " 'seaborn-pastel',\n",
       " 'seaborn-poster',\n",
       " 'seaborn-talk',\n",
       " 'seaborn-ticks',\n",
       " 'seaborn-white',\n",
       " 'seaborn-whitegrid',\n",
       " 'std-colors',\n",
       " 'tableau-colorblind10',\n",
       " 'vibrant']"
      ]
     },
     "execution_count": 2,
     "metadata": {},
     "output_type": "execute_result"
    }
   ],
   "source": [
    "plt.style.available"
   ]
  },
  {
   "cell_type": "code",
   "execution_count": 3,
   "id": "2518bdd2",
   "metadata": {
    "ExecuteTime": {
     "end_time": "2021-07-12T12:06:34.680824Z",
     "start_time": "2021-07-12T12:06:34.598071Z"
    }
   },
   "outputs": [],
   "source": [
    "plt.style.use('science')"
   ]
  },
  {
   "cell_type": "code",
   "execution_count": 4,
   "id": "67ec2e93",
   "metadata": {
    "ExecuteTime": {
     "end_time": "2021-07-12T12:06:34.810695Z",
     "start_time": "2021-07-12T12:06:34.705580Z"
    }
   },
   "outputs": [
    {
     "name": "stdout",
     "output_type": "stream",
     "text": [
      "Populating the interactive namespace from numpy and matplotlib\n"
     ]
    },
    {
     "data": {
      "text/html": [
       "<style>.container { width:70% !important; }</style>"
      ],
      "text/plain": [
       "<IPython.core.display.HTML object>"
      ]
     },
     "metadata": {},
     "output_type": "display_data"
    }
   ],
   "source": [
    "# função do jupyter para auxiliar plotagens \n",
    "def jupyter_settings():\n",
    "\n",
    "    %matplotlib inline\n",
    "    %pylab inline\n",
    "    %config InlineBackend.figure_format = 'retina'\n",
    "\n",
    "    plt.style.use('science')\n",
    "    plt.rcParams['figure.figsize'] = [8, 5]\n",
    "    plt.rcParams['font.size'] = 15\n",
    "\n",
    "    display(HTML('<style>.container { width:70% !important; }</style>'))\n",
    "\n",
    "    pd.options.display.max_columns = None\n",
    "    pd.options.display.max_rows = None\n",
    "    pd.options.display.float_format = '{:,.4f}'.format\n",
    "    pd.set_option('display.expand_frame_repr', False)\n",
    "    pd.set_option('display.max_columns', None)\n",
    "    pd.set_option('display.max_rows', None)\n",
    "    \n",
    "    #sns.set()\n",
    "    \n",
    "    return None\n",
    "\n",
    "jupyter_settings()"
   ]
  },
  {
   "cell_type": "markdown",
   "id": "74154f64",
   "metadata": {},
   "source": [
    "# Carregando os dados"
   ]
  },
  {
   "cell_type": "code",
   "execution_count": 5,
   "id": "de972682",
   "metadata": {
    "ExecuteTime": {
     "end_time": "2021-07-12T12:06:35.279421Z",
     "start_time": "2021-07-12T12:06:34.813262Z"
    }
   },
   "outputs": [],
   "source": [
    "data = pd.read_csv('kc_house_data.csv')"
   ]
  },
  {
   "cell_type": "code",
   "execution_count": 6,
   "id": "cc4570bf",
   "metadata": {
    "ExecuteTime": {
     "end_time": "2021-07-12T12:06:35.293544Z",
     "start_time": "2021-07-12T12:06:35.282116Z"
    }
   },
   "outputs": [
    {
     "name": "stdout",
     "output_type": "stream",
     "text": [
      "Quantidade de linhas: 21613\n",
      "\n",
      "Quantidade de colunas: 21\n",
      "\n",
      "Nome das colunas: \n",
      "Index(['id', 'date', 'price', 'bedrooms', 'bathrooms', 'sqft_living',\n",
      "       'sqft_lot', 'floors', 'waterfront', 'view', 'condition', 'grade',\n",
      "       'sqft_above', 'sqft_basement', 'yr_built', 'yr_renovated', 'zipcode',\n",
      "       'lat', 'long', 'sqft_living15', 'sqft_lot15'],\n",
      "      dtype='object')\n"
     ]
    }
   ],
   "source": [
    "# entendo os dados \n",
    "print('Quantidade de linhas: {}\\n'.format(data.shape[0]))\n",
    "\n",
    "print('Quantidade de colunas: {}\\n'.format(data.shape[1]))\n",
    "\n",
    "print('Nome das colunas: \\n{}'.format(data.columns))"
   ]
  },
  {
   "cell_type": "code",
   "execution_count": 7,
   "id": "70e14d53",
   "metadata": {
    "ExecuteTime": {
     "end_time": "2021-07-12T12:06:35.477122Z",
     "start_time": "2021-07-12T12:06:35.296175Z"
    }
   },
   "outputs": [
    {
     "data": {
      "text/plain": [
       "id                 int64\n",
       "date              object\n",
       "price            float64\n",
       "bedrooms           int64\n",
       "bathrooms        float64\n",
       "sqft_living        int64\n",
       "sqft_lot           int64\n",
       "floors           float64\n",
       "waterfront         int64\n",
       "view               int64\n",
       "condition          int64\n",
       "grade              int64\n",
       "sqft_above         int64\n",
       "sqft_basement      int64\n",
       "yr_built           int64\n",
       "yr_renovated       int64\n",
       "zipcode            int64\n",
       "lat              float64\n",
       "long             float64\n",
       "sqft_living15      int64\n",
       "sqft_lot15         int64\n",
       "dtype: object"
      ]
     },
     "execution_count": 7,
     "metadata": {},
     "output_type": "execute_result"
    }
   ],
   "source": [
    "# tipos dos dados\n",
    "data.dtypes"
   ]
  },
  {
   "cell_type": "code",
   "execution_count": 8,
   "id": "887fc7df",
   "metadata": {
    "ExecuteTime": {
     "end_time": "2021-07-12T12:06:35.593480Z",
     "start_time": "2021-07-12T12:06:35.482461Z"
    }
   },
   "outputs": [],
   "source": [
    "# converção de date para o formato de data\n",
    "data['date'] = pd.to_datetime(data['date'])"
   ]
  },
  {
   "cell_type": "code",
   "execution_count": 9,
   "id": "894151bd",
   "metadata": {
    "ExecuteTime": {
     "end_time": "2021-07-12T12:06:35.721194Z",
     "start_time": "2021-07-12T12:06:35.598028Z"
    }
   },
   "outputs": [
    {
     "data": {
      "text/plain": [
       "array([False])"
      ]
     },
     "execution_count": 9,
     "metadata": {},
     "output_type": "execute_result"
    }
   ],
   "source": [
    "# checando se há dados duplicados \n",
    "data.duplicated().unique()"
   ]
  },
  {
   "cell_type": "code",
   "execution_count": 10,
   "id": "f95f94f8",
   "metadata": {
    "ExecuteTime": {
     "end_time": "2021-07-12T12:06:35.740377Z",
     "start_time": "2021-07-12T12:06:35.723356Z"
    }
   },
   "outputs": [
    {
     "data": {
      "text/plain": [
       "False"
      ]
     },
     "execution_count": 10,
     "metadata": {},
     "output_type": "execute_result"
    }
   ],
   "source": [
    "# checando dados NA (se tiver algum valor NA ocorre True)\n",
    "data.isnull().values.any()"
   ]
  },
  {
   "cell_type": "markdown",
   "id": "904115d1",
   "metadata": {},
   "source": [
    "# Criando novas colunas"
   ]
  },
  {
   "cell_type": "code",
   "execution_count": 11,
   "id": "6bde7092",
   "metadata": {
    "ExecuteTime": {
     "end_time": "2021-07-12T12:06:35.827473Z",
     "start_time": "2021-07-12T12:06:35.742592Z"
    }
   },
   "outputs": [],
   "source": [
    "# criando coluna mês do ano \n",
    "data['month'] = data['date'].dt.month\n",
    "\n",
    "# criando coluna renovated\n",
    "data['renovated'] = data['yr_renovated'].apply(lambda x: 'yes' if x>0 else 'no')\n",
    "\n",
    "# criando coluna das estações do ano segundo o hemisferio norte\n",
    "data['sesson'] = data['month'].apply(lambda x: 'spring' if 3<=x<=5 else\n",
    "                                               'summer' if 6<=x<=8 else\n",
    "                                               'fall' if 9<=x<=11 else \n",
    "                                               'winter')\n",
    "\n"
   ]
  },
  {
   "cell_type": "code",
   "execution_count": 12,
   "id": "034e00b4",
   "metadata": {
    "ExecuteTime": {
     "end_time": "2021-07-12T12:06:36.018890Z",
     "start_time": "2021-07-12T12:06:35.830784Z"
    }
   },
   "outputs": [
    {
     "data": {
      "text/html": [
       "<div>\n",
       "<style scoped>\n",
       "    .dataframe tbody tr th:only-of-type {\n",
       "        vertical-align: middle;\n",
       "    }\n",
       "\n",
       "    .dataframe tbody tr th {\n",
       "        vertical-align: top;\n",
       "    }\n",
       "\n",
       "    .dataframe thead th {\n",
       "        text-align: right;\n",
       "    }\n",
       "</style>\n",
       "<table border=\"1\" class=\"dataframe\">\n",
       "  <thead>\n",
       "    <tr style=\"text-align: right;\">\n",
       "      <th></th>\n",
       "      <th>id</th>\n",
       "      <th>date</th>\n",
       "      <th>price</th>\n",
       "      <th>bedrooms</th>\n",
       "      <th>bathrooms</th>\n",
       "      <th>sqft_living</th>\n",
       "      <th>sqft_lot</th>\n",
       "      <th>floors</th>\n",
       "      <th>waterfront</th>\n",
       "      <th>view</th>\n",
       "      <th>condition</th>\n",
       "      <th>grade</th>\n",
       "      <th>sqft_above</th>\n",
       "      <th>sqft_basement</th>\n",
       "      <th>yr_built</th>\n",
       "      <th>yr_renovated</th>\n",
       "      <th>zipcode</th>\n",
       "      <th>lat</th>\n",
       "      <th>long</th>\n",
       "      <th>sqft_living15</th>\n",
       "      <th>sqft_lot15</th>\n",
       "      <th>month</th>\n",
       "      <th>renovated</th>\n",
       "      <th>sesson</th>\n",
       "    </tr>\n",
       "  </thead>\n",
       "  <tbody>\n",
       "    <tr>\n",
       "      <th>0</th>\n",
       "      <td>7129300520</td>\n",
       "      <td>2014-10-13</td>\n",
       "      <td>221,900.0000</td>\n",
       "      <td>3</td>\n",
       "      <td>1.0000</td>\n",
       "      <td>1180</td>\n",
       "      <td>5650</td>\n",
       "      <td>1.0000</td>\n",
       "      <td>0</td>\n",
       "      <td>0</td>\n",
       "      <td>3</td>\n",
       "      <td>7</td>\n",
       "      <td>1180</td>\n",
       "      <td>0</td>\n",
       "      <td>1955</td>\n",
       "      <td>0</td>\n",
       "      <td>98178</td>\n",
       "      <td>47.5112</td>\n",
       "      <td>-122.2570</td>\n",
       "      <td>1340</td>\n",
       "      <td>5650</td>\n",
       "      <td>10</td>\n",
       "      <td>no</td>\n",
       "      <td>fall</td>\n",
       "    </tr>\n",
       "    <tr>\n",
       "      <th>1</th>\n",
       "      <td>6414100192</td>\n",
       "      <td>2014-12-09</td>\n",
       "      <td>538,000.0000</td>\n",
       "      <td>3</td>\n",
       "      <td>2.2500</td>\n",
       "      <td>2570</td>\n",
       "      <td>7242</td>\n",
       "      <td>2.0000</td>\n",
       "      <td>0</td>\n",
       "      <td>0</td>\n",
       "      <td>3</td>\n",
       "      <td>7</td>\n",
       "      <td>2170</td>\n",
       "      <td>400</td>\n",
       "      <td>1951</td>\n",
       "      <td>1991</td>\n",
       "      <td>98125</td>\n",
       "      <td>47.7210</td>\n",
       "      <td>-122.3190</td>\n",
       "      <td>1690</td>\n",
       "      <td>7639</td>\n",
       "      <td>12</td>\n",
       "      <td>yes</td>\n",
       "      <td>winter</td>\n",
       "    </tr>\n",
       "    <tr>\n",
       "      <th>2</th>\n",
       "      <td>5631500400</td>\n",
       "      <td>2015-02-25</td>\n",
       "      <td>180,000.0000</td>\n",
       "      <td>2</td>\n",
       "      <td>1.0000</td>\n",
       "      <td>770</td>\n",
       "      <td>10000</td>\n",
       "      <td>1.0000</td>\n",
       "      <td>0</td>\n",
       "      <td>0</td>\n",
       "      <td>3</td>\n",
       "      <td>6</td>\n",
       "      <td>770</td>\n",
       "      <td>0</td>\n",
       "      <td>1933</td>\n",
       "      <td>0</td>\n",
       "      <td>98028</td>\n",
       "      <td>47.7379</td>\n",
       "      <td>-122.2330</td>\n",
       "      <td>2720</td>\n",
       "      <td>8062</td>\n",
       "      <td>2</td>\n",
       "      <td>no</td>\n",
       "      <td>winter</td>\n",
       "    </tr>\n",
       "    <tr>\n",
       "      <th>3</th>\n",
       "      <td>2487200875</td>\n",
       "      <td>2014-12-09</td>\n",
       "      <td>604,000.0000</td>\n",
       "      <td>4</td>\n",
       "      <td>3.0000</td>\n",
       "      <td>1960</td>\n",
       "      <td>5000</td>\n",
       "      <td>1.0000</td>\n",
       "      <td>0</td>\n",
       "      <td>0</td>\n",
       "      <td>5</td>\n",
       "      <td>7</td>\n",
       "      <td>1050</td>\n",
       "      <td>910</td>\n",
       "      <td>1965</td>\n",
       "      <td>0</td>\n",
       "      <td>98136</td>\n",
       "      <td>47.5208</td>\n",
       "      <td>-122.3930</td>\n",
       "      <td>1360</td>\n",
       "      <td>5000</td>\n",
       "      <td>12</td>\n",
       "      <td>no</td>\n",
       "      <td>winter</td>\n",
       "    </tr>\n",
       "    <tr>\n",
       "      <th>4</th>\n",
       "      <td>1954400510</td>\n",
       "      <td>2015-02-18</td>\n",
       "      <td>510,000.0000</td>\n",
       "      <td>3</td>\n",
       "      <td>2.0000</td>\n",
       "      <td>1680</td>\n",
       "      <td>8080</td>\n",
       "      <td>1.0000</td>\n",
       "      <td>0</td>\n",
       "      <td>0</td>\n",
       "      <td>3</td>\n",
       "      <td>8</td>\n",
       "      <td>1680</td>\n",
       "      <td>0</td>\n",
       "      <td>1987</td>\n",
       "      <td>0</td>\n",
       "      <td>98074</td>\n",
       "      <td>47.6168</td>\n",
       "      <td>-122.0450</td>\n",
       "      <td>1800</td>\n",
       "      <td>7503</td>\n",
       "      <td>2</td>\n",
       "      <td>no</td>\n",
       "      <td>winter</td>\n",
       "    </tr>\n",
       "  </tbody>\n",
       "</table>\n",
       "</div>"
      ],
      "text/plain": [
       "           id       date        price  bedrooms  bathrooms  sqft_living  sqft_lot  floors  waterfront  view  condition  grade  sqft_above  sqft_basement  yr_built  yr_renovated  zipcode     lat      long  sqft_living15  sqft_lot15  month renovated  sesson\n",
       "0  7129300520 2014-10-13 221,900.0000         3     1.0000         1180      5650  1.0000           0     0          3      7        1180              0      1955             0    98178 47.5112 -122.2570           1340        5650     10        no    fall\n",
       "1  6414100192 2014-12-09 538,000.0000         3     2.2500         2570      7242  2.0000           0     0          3      7        2170            400      1951          1991    98125 47.7210 -122.3190           1690        7639     12       yes  winter\n",
       "2  5631500400 2015-02-25 180,000.0000         2     1.0000          770     10000  1.0000           0     0          3      6         770              0      1933             0    98028 47.7379 -122.2330           2720        8062      2        no  winter\n",
       "3  2487200875 2014-12-09 604,000.0000         4     3.0000         1960      5000  1.0000           0     0          5      7        1050            910      1965             0    98136 47.5208 -122.3930           1360        5000     12        no  winter\n",
       "4  1954400510 2015-02-18 510,000.0000         3     2.0000         1680      8080  1.0000           0     0          3      8        1680              0      1987             0    98074 47.6168 -122.0450           1800        7503      2        no  winter"
      ]
     },
     "execution_count": 12,
     "metadata": {},
     "output_type": "execute_result"
    }
   ],
   "source": [
    "data.head()"
   ]
  },
  {
   "cell_type": "markdown",
   "id": "441ed2cc",
   "metadata": {},
   "source": [
    "# Estatística descritiva"
   ]
  },
  {
   "cell_type": "code",
   "execution_count": 13,
   "id": "9a31efa8",
   "metadata": {
    "ExecuteTime": {
     "end_time": "2021-07-12T12:06:36.114652Z",
     "start_time": "2021-07-12T12:06:36.022473Z"
    }
   },
   "outputs": [
    {
     "data": {
      "text/plain": [
       "id                        int64\n",
       "date             datetime64[ns]\n",
       "price                   float64\n",
       "bedrooms                  int64\n",
       "bathrooms               float64\n",
       "sqft_living               int64\n",
       "sqft_lot                  int64\n",
       "floors                  float64\n",
       "waterfront                int64\n",
       "view                      int64\n",
       "condition                 int64\n",
       "grade                     int64\n",
       "sqft_above                int64\n",
       "sqft_basement             int64\n",
       "yr_built                  int64\n",
       "yr_renovated              int64\n",
       "zipcode                   int64\n",
       "lat                     float64\n",
       "long                    float64\n",
       "sqft_living15             int64\n",
       "sqft_lot15                int64\n",
       "month                     int64\n",
       "renovated                object\n",
       "sesson                   object\n",
       "dtype: object"
      ]
     },
     "execution_count": 13,
     "metadata": {},
     "output_type": "execute_result"
    }
   ],
   "source": [
    "# cópia dos dados \n",
    "data_copy = data.copy()\n",
    "\n",
    "# dropando a coluna com quartos = 33\n",
    "data_copy = data_copy.drop(15870)\n",
    "\n",
    "# verificando com os tipos de variaveis\n",
    "data_copy.dtypes"
   ]
  },
  {
   "cell_type": "code",
   "execution_count": 14,
   "id": "78cfbed8",
   "metadata": {
    "ExecuteTime": {
     "end_time": "2021-07-12T12:06:36.148083Z",
     "start_time": "2021-07-12T12:06:36.117498Z"
    }
   },
   "outputs": [],
   "source": [
    "# trabalhando apenas com as variaveis inteiros\n",
    "data_num = data_copy.select_dtypes(include = ['int64', 'float64'])\n",
    "\n",
    "#deletando a coluna ID \n",
    "data_num = data_num.iloc[:, 1: ]"
   ]
  },
  {
   "cell_type": "code",
   "execution_count": 15,
   "id": "2e8d54b0",
   "metadata": {
    "ExecuteTime": {
     "end_time": "2021-07-12T12:06:36.381742Z",
     "start_time": "2021-07-12T12:06:36.150306Z"
    }
   },
   "outputs": [],
   "source": [
    "# estatistica descritiva\n",
    "data_num_mean = pd.DataFrame(data_num.apply(np.mean)).T\n",
    "data_num_median = pd.DataFrame(data_num.apply(np.median)).T\n",
    "data_num_std = pd.DataFrame(data_num.apply(np.std)).T\n",
    "data_num_max = pd.DataFrame(data_num.apply(np.max)).T\n",
    "data_num_min = pd.DataFrame(data_num.apply(np.min)).T\n",
    "\n",
    "# concatenando em um mesmo data frame\n",
    "\n",
    "data_descr = pd.concat([data_num_mean, data_num_median, data_num_std, data_num_max, data_num_min]).T.reset_index()"
   ]
  },
  {
   "cell_type": "code",
   "execution_count": 16,
   "id": "c7b26425",
   "metadata": {
    "ExecuteTime": {
     "end_time": "2021-07-12T12:06:36.403009Z",
     "start_time": "2021-07-12T12:06:36.384063Z"
    }
   },
   "outputs": [
    {
     "data": {
      "text/html": [
       "<div>\n",
       "<style scoped>\n",
       "    .dataframe tbody tr th:only-of-type {\n",
       "        vertical-align: middle;\n",
       "    }\n",
       "\n",
       "    .dataframe tbody tr th {\n",
       "        vertical-align: top;\n",
       "    }\n",
       "\n",
       "    .dataframe thead th {\n",
       "        text-align: right;\n",
       "    }\n",
       "</style>\n",
       "<table border=\"1\" class=\"dataframe\">\n",
       "  <thead>\n",
       "    <tr style=\"text-align: right;\">\n",
       "      <th></th>\n",
       "      <th>attributes</th>\n",
       "      <th>mean</th>\n",
       "      <th>median</th>\n",
       "      <th>std</th>\n",
       "      <th>max</th>\n",
       "      <th>min</th>\n",
       "    </tr>\n",
       "  </thead>\n",
       "  <tbody>\n",
       "    <tr>\n",
       "      <th>0</th>\n",
       "      <td>price</td>\n",
       "      <td>540,083.5188</td>\n",
       "      <td>450,000.0000</td>\n",
       "      <td>367,126.5674</td>\n",
       "      <td>7,700,000.0000</td>\n",
       "      <td>75,000.0000</td>\n",
       "    </tr>\n",
       "    <tr>\n",
       "      <th>1</th>\n",
       "      <td>bedrooms</td>\n",
       "      <td>3.3695</td>\n",
       "      <td>3.0000</td>\n",
       "      <td>0.9080</td>\n",
       "      <td>11.0000</td>\n",
       "      <td>0.0000</td>\n",
       "    </tr>\n",
       "    <tr>\n",
       "      <th>2</th>\n",
       "      <td>bathrooms</td>\n",
       "      <td>2.1148</td>\n",
       "      <td>2.2500</td>\n",
       "      <td>0.7702</td>\n",
       "      <td>8.0000</td>\n",
       "      <td>0.0000</td>\n",
       "    </tr>\n",
       "    <tr>\n",
       "      <th>3</th>\n",
       "      <td>sqft_living</td>\n",
       "      <td>2,079.9210</td>\n",
       "      <td>1,910.0000</td>\n",
       "      <td>918.4356</td>\n",
       "      <td>13,540.0000</td>\n",
       "      <td>290.0000</td>\n",
       "    </tr>\n",
       "    <tr>\n",
       "      <th>4</th>\n",
       "      <td>sqft_lot</td>\n",
       "      <td>15,107.3890</td>\n",
       "      <td>7,619.0000</td>\n",
       "      <td>41,420.4652</td>\n",
       "      <td>1,651,359.0000</td>\n",
       "      <td>520.0000</td>\n",
       "    </tr>\n",
       "  </tbody>\n",
       "</table>\n",
       "</div>"
      ],
      "text/plain": [
       "    attributes         mean       median          std            max         min\n",
       "0        price 540,083.5188 450,000.0000 367,126.5674 7,700,000.0000 75,000.0000\n",
       "1     bedrooms       3.3695       3.0000       0.9080        11.0000      0.0000\n",
       "2    bathrooms       2.1148       2.2500       0.7702         8.0000      0.0000\n",
       "3  sqft_living   2,079.9210   1,910.0000     918.4356    13,540.0000    290.0000\n",
       "4     sqft_lot  15,107.3890   7,619.0000  41,420.4652 1,651,359.0000    520.0000"
      ]
     },
     "execution_count": 16,
     "metadata": {},
     "output_type": "execute_result"
    }
   ],
   "source": [
    "# renomeando as colunas\n",
    "data_descr.columns = ['attributes', 'mean', 'median', 'std', 'max', 'min']\n",
    "\n",
    "data_descr.head()"
   ]
  },
  {
   "cell_type": "markdown",
   "id": "94800622",
   "metadata": {},
   "source": [
    "# Hipóteses e Insights"
   ]
  },
  {
   "cell_type": "markdown",
   "id": "fdfd038c",
   "metadata": {},
   "source": [
    "        H1 = Imóveis com vista para água são em média 30% mais caros\n",
    "        H2 = Imóveis nunca reformados são 15% mais baratos na média \n",
    "        H3 = A estação summer apresenta preços 30% mais caros na média que as outras estações do ano\n",
    "        H4 = Os imóveis com vista para água na estação summer são 40% na média mais caros que os com vista para aguá no winter \n",
    "        H5 = O preço dos imóveis crescem 10% MoM na média "
   ]
  },
  {
   "cell_type": "code",
   "execution_count": 17,
   "id": "62b4bae8",
   "metadata": {
    "ExecuteTime": {
     "end_time": "2021-07-12T12:06:36.502059Z",
     "start_time": "2021-07-12T12:06:36.406016Z"
    }
   },
   "outputs": [
    {
     "data": {
      "text/html": [
       "<div>\n",
       "<style scoped>\n",
       "    .dataframe tbody tr th:only-of-type {\n",
       "        vertical-align: middle;\n",
       "    }\n",
       "\n",
       "    .dataframe tbody tr th {\n",
       "        vertical-align: top;\n",
       "    }\n",
       "\n",
       "    .dataframe thead th {\n",
       "        text-align: right;\n",
       "    }\n",
       "</style>\n",
       "<table border=\"1\" class=\"dataframe\">\n",
       "  <thead>\n",
       "    <tr style=\"text-align: right;\">\n",
       "      <th></th>\n",
       "      <th>id</th>\n",
       "      <th>date</th>\n",
       "      <th>price</th>\n",
       "      <th>bedrooms</th>\n",
       "      <th>bathrooms</th>\n",
       "      <th>sqft_living</th>\n",
       "      <th>sqft_lot</th>\n",
       "      <th>floors</th>\n",
       "      <th>waterfront</th>\n",
       "      <th>view</th>\n",
       "      <th>condition</th>\n",
       "      <th>grade</th>\n",
       "      <th>sqft_above</th>\n",
       "      <th>sqft_basement</th>\n",
       "      <th>yr_built</th>\n",
       "      <th>yr_renovated</th>\n",
       "      <th>zipcode</th>\n",
       "      <th>lat</th>\n",
       "      <th>long</th>\n",
       "      <th>sqft_living15</th>\n",
       "      <th>sqft_lot15</th>\n",
       "      <th>month</th>\n",
       "      <th>renovated</th>\n",
       "      <th>sesson</th>\n",
       "    </tr>\n",
       "  </thead>\n",
       "  <tbody>\n",
       "    <tr>\n",
       "      <th>0</th>\n",
       "      <td>7129300520</td>\n",
       "      <td>2014-10-13</td>\n",
       "      <td>221,900.0000</td>\n",
       "      <td>3</td>\n",
       "      <td>1.0000</td>\n",
       "      <td>1180</td>\n",
       "      <td>5650</td>\n",
       "      <td>1.0000</td>\n",
       "      <td>0</td>\n",
       "      <td>0</td>\n",
       "      <td>3</td>\n",
       "      <td>7</td>\n",
       "      <td>1180</td>\n",
       "      <td>0</td>\n",
       "      <td>1955</td>\n",
       "      <td>0</td>\n",
       "      <td>98178</td>\n",
       "      <td>47.5112</td>\n",
       "      <td>-122.2570</td>\n",
       "      <td>1340</td>\n",
       "      <td>5650</td>\n",
       "      <td>10</td>\n",
       "      <td>no</td>\n",
       "      <td>fall</td>\n",
       "    </tr>\n",
       "    <tr>\n",
       "      <th>1</th>\n",
       "      <td>6414100192</td>\n",
       "      <td>2014-12-09</td>\n",
       "      <td>538,000.0000</td>\n",
       "      <td>3</td>\n",
       "      <td>2.2500</td>\n",
       "      <td>2570</td>\n",
       "      <td>7242</td>\n",
       "      <td>2.0000</td>\n",
       "      <td>0</td>\n",
       "      <td>0</td>\n",
       "      <td>3</td>\n",
       "      <td>7</td>\n",
       "      <td>2170</td>\n",
       "      <td>400</td>\n",
       "      <td>1951</td>\n",
       "      <td>1991</td>\n",
       "      <td>98125</td>\n",
       "      <td>47.7210</td>\n",
       "      <td>-122.3190</td>\n",
       "      <td>1690</td>\n",
       "      <td>7639</td>\n",
       "      <td>12</td>\n",
       "      <td>yes</td>\n",
       "      <td>winter</td>\n",
       "    </tr>\n",
       "    <tr>\n",
       "      <th>2</th>\n",
       "      <td>5631500400</td>\n",
       "      <td>2015-02-25</td>\n",
       "      <td>180,000.0000</td>\n",
       "      <td>2</td>\n",
       "      <td>1.0000</td>\n",
       "      <td>770</td>\n",
       "      <td>10000</td>\n",
       "      <td>1.0000</td>\n",
       "      <td>0</td>\n",
       "      <td>0</td>\n",
       "      <td>3</td>\n",
       "      <td>6</td>\n",
       "      <td>770</td>\n",
       "      <td>0</td>\n",
       "      <td>1933</td>\n",
       "      <td>0</td>\n",
       "      <td>98028</td>\n",
       "      <td>47.7379</td>\n",
       "      <td>-122.2330</td>\n",
       "      <td>2720</td>\n",
       "      <td>8062</td>\n",
       "      <td>2</td>\n",
       "      <td>no</td>\n",
       "      <td>winter</td>\n",
       "    </tr>\n",
       "    <tr>\n",
       "      <th>3</th>\n",
       "      <td>2487200875</td>\n",
       "      <td>2014-12-09</td>\n",
       "      <td>604,000.0000</td>\n",
       "      <td>4</td>\n",
       "      <td>3.0000</td>\n",
       "      <td>1960</td>\n",
       "      <td>5000</td>\n",
       "      <td>1.0000</td>\n",
       "      <td>0</td>\n",
       "      <td>0</td>\n",
       "      <td>5</td>\n",
       "      <td>7</td>\n",
       "      <td>1050</td>\n",
       "      <td>910</td>\n",
       "      <td>1965</td>\n",
       "      <td>0</td>\n",
       "      <td>98136</td>\n",
       "      <td>47.5208</td>\n",
       "      <td>-122.3930</td>\n",
       "      <td>1360</td>\n",
       "      <td>5000</td>\n",
       "      <td>12</td>\n",
       "      <td>no</td>\n",
       "      <td>winter</td>\n",
       "    </tr>\n",
       "    <tr>\n",
       "      <th>4</th>\n",
       "      <td>1954400510</td>\n",
       "      <td>2015-02-18</td>\n",
       "      <td>510,000.0000</td>\n",
       "      <td>3</td>\n",
       "      <td>2.0000</td>\n",
       "      <td>1680</td>\n",
       "      <td>8080</td>\n",
       "      <td>1.0000</td>\n",
       "      <td>0</td>\n",
       "      <td>0</td>\n",
       "      <td>3</td>\n",
       "      <td>8</td>\n",
       "      <td>1680</td>\n",
       "      <td>0</td>\n",
       "      <td>1987</td>\n",
       "      <td>0</td>\n",
       "      <td>98074</td>\n",
       "      <td>47.6168</td>\n",
       "      <td>-122.0450</td>\n",
       "      <td>1800</td>\n",
       "      <td>7503</td>\n",
       "      <td>2</td>\n",
       "      <td>no</td>\n",
       "      <td>winter</td>\n",
       "    </tr>\n",
       "  </tbody>\n",
       "</table>\n",
       "</div>"
      ],
      "text/plain": [
       "           id       date        price  bedrooms  bathrooms  sqft_living  sqft_lot  floors  waterfront  view  condition  grade  sqft_above  sqft_basement  yr_built  yr_renovated  zipcode     lat      long  sqft_living15  sqft_lot15  month renovated  sesson\n",
       "0  7129300520 2014-10-13 221,900.0000         3     1.0000         1180      5650  1.0000           0     0          3      7        1180              0      1955             0    98178 47.5112 -122.2570           1340        5650     10        no    fall\n",
       "1  6414100192 2014-12-09 538,000.0000         3     2.2500         2570      7242  2.0000           0     0          3      7        2170            400      1951          1991    98125 47.7210 -122.3190           1690        7639     12       yes  winter\n",
       "2  5631500400 2015-02-25 180,000.0000         2     1.0000          770     10000  1.0000           0     0          3      6         770              0      1933             0    98028 47.7379 -122.2330           2720        8062      2        no  winter\n",
       "3  2487200875 2014-12-09 604,000.0000         4     3.0000         1960      5000  1.0000           0     0          5      7        1050            910      1965             0    98136 47.5208 -122.3930           1360        5000     12        no  winter\n",
       "4  1954400510 2015-02-18 510,000.0000         3     2.0000         1680      8080  1.0000           0     0          3      8        1680              0      1987             0    98074 47.6168 -122.0450           1800        7503      2        no  winter"
      ]
     },
     "execution_count": 17,
     "metadata": {},
     "output_type": "execute_result"
    }
   ],
   "source": [
    "data_copy.head()"
   ]
  },
  {
   "cell_type": "code",
   "execution_count": 18,
   "id": "491c04d8",
   "metadata": {
    "ExecuteTime": {
     "end_time": "2021-07-12T12:06:38.738509Z",
     "start_time": "2021-07-12T12:06:36.504081Z"
    }
   },
   "outputs": [
    {
     "data": {
      "image/png": "[encoded data removed]",
      "text/plain": [
       "<Figure size 576x360 with 1 Axes>"
      ]
     },
     "metadata": {
      "image/png": {
       "height": 326,
       "width": 493
      },
      "needs_background": "light"
     },
     "output_type": "display_data"
    }
   ],
   "source": [
    "# testando a H1\n",
    "h1 = data_copy[['price', 'waterfront']].groupby('waterfront').mean().reset_index()\n",
    "\n",
    "#gráfico \n",
    "\n",
    "plt.ylabel('Price')\n",
    "plt.xlabel('Waterview')\n",
    "plt.bar(['No', 'yes'], h1['price']);\n"
   ]
  },
  {
   "cell_type": "code",
   "execution_count": 19,
   "id": "ce8ca8ba",
   "metadata": {
    "ExecuteTime": {
     "end_time": "2021-07-12T12:06:39.423404Z",
     "start_time": "2021-07-12T12:06:38.742669Z"
    }
   },
   "outputs": [
    {
     "data": {
      "image/png": "[encoded data removed]",
      "text/plain": [
       "<Figure size 576x360 with 1 Axes>"
      ]
     },
     "metadata": {
      "image/png": {
       "height": 313,
       "width": 518
      },
      "needs_background": "light"
     },
     "output_type": "display_data"
    }
   ],
   "source": [
    "# testando a H2\n",
    "h2 = data_copy[['price', 'renovated']].groupby('renovated').mean().reset_index()\n",
    "\n",
    "#gráfico \n",
    "plt.ylabel('Price')\n",
    "plt.xlabel('Renovated')\n",
    "plt.bar(h2['renovated'], h2['price']);"
   ]
  },
  {
   "cell_type": "code",
   "execution_count": 20,
   "id": "20f08414",
   "metadata": {
    "ExecuteTime": {
     "end_time": "2021-07-12T12:06:39.989488Z",
     "start_time": "2021-07-12T12:06:39.429517Z"
    }
   },
   "outputs": [
    {
     "data": {
      "image/png": "[encoded data removed]",
      "text/plain": [
       "<Figure size 576x360 with 1 Axes>"
      ]
     },
     "metadata": {
      "image/png": {
       "height": 313,
       "width": 518
      },
      "needs_background": "light"
     },
     "output_type": "display_data"
    }
   ],
   "source": [
    "# testando a H3\n",
    "h3 = data_copy[['price', 'sesson']].groupby('sesson').mean().reset_index()\n",
    "\n",
    "#gráfico \n",
    "plt.ylabel('Price')\n",
    "plt.xlabel('Seasson')\n",
    "plt.bar(h3['sesson'], h3['price']);"
   ]
  },
  {
   "cell_type": "code",
   "execution_count": 21,
   "id": "44cfba0e",
   "metadata": {
    "ExecuteTime": {
     "end_time": "2021-07-12T12:06:40.884771Z",
     "start_time": "2021-07-12T12:06:39.992537Z"
    }
   },
   "outputs": [
    {
     "data": {
      "image/png": "[encoded data removed]",
      "text/plain": [
       "<Figure size 576x360 with 1 Axes>"
      ]
     },
     "metadata": {
      "image/png": {
       "height": 326,
       "width": 500
      },
      "needs_background": "light"
     },
     "output_type": "display_data"
    }
   ],
   "source": [
    "# testando a H4\n",
    "df = data_copy.loc[data_copy['waterfront']==1, ['price', 'sesson']].reset_index()\n",
    "h4 = df[['price', 'sesson']].groupby('sesson').mean().reset_index()\n",
    "\n",
    "# selecionando só winter e summer do dataframe h4\n",
    "h4_ = h4.loc[ (h4['sesson']=='summer') | (h4['sesson']=='winter'), 'price'].reset_index()\n",
    "\n",
    "#gráfico \n",
    "plt.ylabel('Price')\n",
    "plt.xlabel('Seasson')\n",
    "\n",
    "plt.bar(['Summer', 'Winter'], h4_['price']);"
   ]
  },
  {
   "cell_type": "code",
   "execution_count": 22,
   "id": "a721321b",
   "metadata": {
    "ExecuteTime": {
     "end_time": "2021-07-12T12:06:41.809998Z",
     "start_time": "2021-07-12T12:06:40.888103Z"
    }
   },
   "outputs": [
    {
     "data": {
      "image/png": "[encoded data removed]",
      "text/plain": [
       "<Figure size 576x360 with 1 Axes>"
      ]
     },
     "metadata": {
      "image/png": {
       "height": 313,
       "width": 518
      },
      "needs_background": "light"
     },
     "output_type": "display_data"
    }
   ],
   "source": [
    "# testando a H5\n",
    "h5 = data_copy[['price', 'month']].groupby('month').mean().reset_index()\n",
    "\n",
    "#gráfico \n",
    "plt.ylabel('Price')\n",
    "plt.xlabel('Months')\n",
    "plt.xticks( [i+1 for i, _ in enumerate(h5['month'])], h5['month'])\n",
    "plt.plot(h5['month'], h5['price']);"
   ]
  },
  {
   "cell_type": "markdown",
   "id": "b714308f",
   "metadata": {},
   "source": [
    "H1 e H2 são verdadeiras"
   ]
  },
  {
   "cell_type": "markdown",
   "id": "45a16e53",
   "metadata": {},
   "source": [
    "# Respondendo as questões de negócio"
   ]
  },
  {
   "cell_type": "code",
   "execution_count": 23,
   "id": "77cc1318",
   "metadata": {
    "ExecuteTime": {
     "end_time": "2021-07-12T12:06:42.049101Z",
     "start_time": "2021-07-12T12:06:41.812297Z"
    }
   },
   "outputs": [],
   "source": [
    "# Quais são os imóveis que deveria comprar e por qual preço?\n",
    "\n",
    "data_median = data_copy[['zipcode', 'price']].groupby('zipcode').median().reset_index()\n",
    "\n",
    "df = data_copy.copy()\n",
    "\n",
    "df_merge = pd.merge(data_median, df, on='zipcode', how = 'inner')\n"
   ]
  },
  {
   "cell_type": "code",
   "execution_count": 24,
   "id": "172f14ba",
   "metadata": {
    "ExecuteTime": {
     "end_time": "2021-07-12T12:06:42.082985Z",
     "start_time": "2021-07-12T12:06:42.052597Z"
    }
   },
   "outputs": [
    {
     "data": {
      "text/html": [
       "<div>\n",
       "<style scoped>\n",
       "    .dataframe tbody tr th:only-of-type {\n",
       "        vertical-align: middle;\n",
       "    }\n",
       "\n",
       "    .dataframe tbody tr th {\n",
       "        vertical-align: top;\n",
       "    }\n",
       "\n",
       "    .dataframe thead th {\n",
       "        text-align: right;\n",
       "    }\n",
       "</style>\n",
       "<table border=\"1\" class=\"dataframe\">\n",
       "  <thead>\n",
       "    <tr style=\"text-align: right;\">\n",
       "      <th></th>\n",
       "      <th>zipcode</th>\n",
       "      <th>price_x</th>\n",
       "      <th>id</th>\n",
       "      <th>date</th>\n",
       "      <th>price_y</th>\n",
       "      <th>bedrooms</th>\n",
       "      <th>bathrooms</th>\n",
       "      <th>sqft_living</th>\n",
       "      <th>sqft_lot</th>\n",
       "      <th>floors</th>\n",
       "      <th>waterfront</th>\n",
       "      <th>view</th>\n",
       "      <th>condition</th>\n",
       "      <th>grade</th>\n",
       "      <th>sqft_above</th>\n",
       "      <th>sqft_basement</th>\n",
       "      <th>yr_built</th>\n",
       "      <th>yr_renovated</th>\n",
       "      <th>lat</th>\n",
       "      <th>long</th>\n",
       "      <th>sqft_living15</th>\n",
       "      <th>sqft_lot15</th>\n",
       "      <th>month</th>\n",
       "      <th>renovated</th>\n",
       "      <th>sesson</th>\n",
       "    </tr>\n",
       "  </thead>\n",
       "  <tbody>\n",
       "    <tr>\n",
       "      <th>0</th>\n",
       "      <td>98001</td>\n",
       "      <td>260,000.0000</td>\n",
       "      <td>7895500070</td>\n",
       "      <td>2015-02-13</td>\n",
       "      <td>240,000.0000</td>\n",
       "      <td>4</td>\n",
       "      <td>1.0000</td>\n",
       "      <td>1220</td>\n",
       "      <td>8075</td>\n",
       "      <td>1.0000</td>\n",
       "      <td>0</td>\n",
       "      <td>0</td>\n",
       "      <td>2</td>\n",
       "      <td>7</td>\n",
       "      <td>890</td>\n",
       "      <td>330</td>\n",
       "      <td>1969</td>\n",
       "      <td>0</td>\n",
       "      <td>47.3341</td>\n",
       "      <td>-122.2820</td>\n",
       "      <td>1290</td>\n",
       "      <td>7800</td>\n",
       "      <td>2</td>\n",
       "      <td>no</td>\n",
       "      <td>winter</td>\n",
       "    </tr>\n",
       "    <tr>\n",
       "      <th>1</th>\n",
       "      <td>98001</td>\n",
       "      <td>260,000.0000</td>\n",
       "      <td>3717000160</td>\n",
       "      <td>2014-10-09</td>\n",
       "      <td>287,000.0000</td>\n",
       "      <td>4</td>\n",
       "      <td>2.5000</td>\n",
       "      <td>2240</td>\n",
       "      <td>4648</td>\n",
       "      <td>2.0000</td>\n",
       "      <td>0</td>\n",
       "      <td>0</td>\n",
       "      <td>3</td>\n",
       "      <td>7</td>\n",
       "      <td>2240</td>\n",
       "      <td>0</td>\n",
       "      <td>2005</td>\n",
       "      <td>0</td>\n",
       "      <td>47.3378</td>\n",
       "      <td>-122.2570</td>\n",
       "      <td>2221</td>\n",
       "      <td>4557</td>\n",
       "      <td>10</td>\n",
       "      <td>no</td>\n",
       "      <td>fall</td>\n",
       "    </tr>\n",
       "    <tr>\n",
       "      <th>2</th>\n",
       "      <td>98001</td>\n",
       "      <td>260,000.0000</td>\n",
       "      <td>8961960160</td>\n",
       "      <td>2014-10-28</td>\n",
       "      <td>480,000.0000</td>\n",
       "      <td>4</td>\n",
       "      <td>2.5000</td>\n",
       "      <td>3230</td>\n",
       "      <td>16171</td>\n",
       "      <td>2.0000</td>\n",
       "      <td>0</td>\n",
       "      <td>3</td>\n",
       "      <td>3</td>\n",
       "      <td>9</td>\n",
       "      <td>2520</td>\n",
       "      <td>710</td>\n",
       "      <td>2001</td>\n",
       "      <td>0</td>\n",
       "      <td>47.3183</td>\n",
       "      <td>-122.2530</td>\n",
       "      <td>2640</td>\n",
       "      <td>8517</td>\n",
       "      <td>10</td>\n",
       "      <td>no</td>\n",
       "      <td>fall</td>\n",
       "    </tr>\n",
       "    <tr>\n",
       "      <th>3</th>\n",
       "      <td>98001</td>\n",
       "      <td>260,000.0000</td>\n",
       "      <td>4014400292</td>\n",
       "      <td>2015-01-14</td>\n",
       "      <td>465,000.0000</td>\n",
       "      <td>3</td>\n",
       "      <td>2.5000</td>\n",
       "      <td>2714</td>\n",
       "      <td>17936</td>\n",
       "      <td>2.0000</td>\n",
       "      <td>0</td>\n",
       "      <td>0</td>\n",
       "      <td>3</td>\n",
       "      <td>9</td>\n",
       "      <td>2714</td>\n",
       "      <td>0</td>\n",
       "      <td>2005</td>\n",
       "      <td>0</td>\n",
       "      <td>47.3185</td>\n",
       "      <td>-122.2750</td>\n",
       "      <td>2590</td>\n",
       "      <td>18386</td>\n",
       "      <td>1</td>\n",
       "      <td>no</td>\n",
       "      <td>winter</td>\n",
       "    </tr>\n",
       "    <tr>\n",
       "      <th>4</th>\n",
       "      <td>98001</td>\n",
       "      <td>260,000.0000</td>\n",
       "      <td>1115450240</td>\n",
       "      <td>2014-10-22</td>\n",
       "      <td>360,000.0000</td>\n",
       "      <td>4</td>\n",
       "      <td>2.5000</td>\n",
       "      <td>2160</td>\n",
       "      <td>9528</td>\n",
       "      <td>2.0000</td>\n",
       "      <td>0</td>\n",
       "      <td>0</td>\n",
       "      <td>3</td>\n",
       "      <td>9</td>\n",
       "      <td>2160</td>\n",
       "      <td>0</td>\n",
       "      <td>1992</td>\n",
       "      <td>0</td>\n",
       "      <td>47.3341</td>\n",
       "      <td>-122.2550</td>\n",
       "      <td>2280</td>\n",
       "      <td>9937</td>\n",
       "      <td>10</td>\n",
       "      <td>no</td>\n",
       "      <td>fall</td>\n",
       "    </tr>\n",
       "  </tbody>\n",
       "</table>\n",
       "</div>"
      ],
      "text/plain": [
       "   zipcode      price_x          id       date      price_y  bedrooms  bathrooms  sqft_living  sqft_lot  floors  waterfront  view  condition  grade  sqft_above  sqft_basement  yr_built  yr_renovated     lat      long  sqft_living15  sqft_lot15  month renovated  sesson\n",
       "0    98001 260,000.0000  7895500070 2015-02-13 240,000.0000         4     1.0000         1220      8075  1.0000           0     0          2      7         890            330      1969             0 47.3341 -122.2820           1290        7800      2        no  winter\n",
       "1    98001 260,000.0000  3717000160 2014-10-09 287,000.0000         4     2.5000         2240      4648  2.0000           0     0          3      7        2240              0      2005             0 47.3378 -122.2570           2221        4557     10        no    fall\n",
       "2    98001 260,000.0000  8961960160 2014-10-28 480,000.0000         4     2.5000         3230     16171  2.0000           0     3          3      9        2520            710      2001             0 47.3183 -122.2530           2640        8517     10        no    fall\n",
       "3    98001 260,000.0000  4014400292 2015-01-14 465,000.0000         3     2.5000         2714     17936  2.0000           0     0          3      9        2714              0      2005             0 47.3185 -122.2750           2590       18386      1        no  winter\n",
       "4    98001 260,000.0000  1115450240 2014-10-22 360,000.0000         4     2.5000         2160      9528  2.0000           0     0          3      9        2160              0      1992             0 47.3341 -122.2550           2280        9937     10        no    fall"
      ]
     },
     "execution_count": 24,
     "metadata": {},
     "output_type": "execute_result"
    }
   ],
   "source": [
    "df_merge.head()"
   ]
  },
  {
   "cell_type": "code",
   "execution_count": 25,
   "id": "b5e4a85a",
   "metadata": {
    "ExecuteTime": {
     "end_time": "2021-07-12T12:06:42.184869Z",
     "start_time": "2021-07-12T12:06:42.087728Z"
    }
   },
   "outputs": [],
   "source": [
    "# renomeando price_x e price_y\n",
    "df_merge = df_merge.rename(columns = {'price_y' : 'price', 'price_x' : 'price_median'} )"
   ]
  },
  {
   "cell_type": "code",
   "execution_count": 74,
   "id": "3ebd7a5d",
   "metadata": {
    "ExecuteTime": {
     "end_time": "2021-07-12T13:07:19.639773Z",
     "start_time": "2021-07-12T13:06:56.768957Z"
    }
   },
   "outputs": [],
   "source": [
    "# classificando os imoveis a serem comprados tenha preço menor que a mediana de cada regiao e estejam em boas condições\n",
    "for i, row in df_merge.iterrows():\n",
    "    if (row['price_median'] >= row['price']) & (row['condition'] > 3):\n",
    "        df_merge.loc[i,'buy'] =  'yes'\n",
    "        \n",
    "    else:\n",
    "        df_merge.loc[i, 'buy'] = 'no'\n",
    "        \n",
    "# salvando apenas as colunas que me interessa\n",
    "data_resume = df_merge[['id', 'zipcode', 'price', 'price_median', 'condition','sesson', 'lat', 'long', 'buy']]"
   ]
  },
  {
   "cell_type": "code",
   "execution_count": 75,
   "id": "6140d975",
   "metadata": {
    "ExecuteTime": {
     "end_time": "2021-07-12T13:07:19.819342Z",
     "start_time": "2021-07-12T13:07:19.672882Z"
    }
   },
   "outputs": [
    {
     "data": {
      "text/html": [
       "<div>\n",
       "<style scoped>\n",
       "    .dataframe tbody tr th:only-of-type {\n",
       "        vertical-align: middle;\n",
       "    }\n",
       "\n",
       "    .dataframe tbody tr th {\n",
       "        vertical-align: top;\n",
       "    }\n",
       "\n",
       "    .dataframe thead th {\n",
       "        text-align: right;\n",
       "    }\n",
       "</style>\n",
       "<table border=\"1\" class=\"dataframe\">\n",
       "  <thead>\n",
       "    <tr style=\"text-align: right;\">\n",
       "      <th></th>\n",
       "      <th>id</th>\n",
       "      <th>zipcode</th>\n",
       "      <th>price</th>\n",
       "      <th>price_median</th>\n",
       "      <th>condition</th>\n",
       "      <th>sesson</th>\n",
       "      <th>lat</th>\n",
       "      <th>long</th>\n",
       "      <th>buy</th>\n",
       "    </tr>\n",
       "  </thead>\n",
       "  <tbody>\n",
       "    <tr>\n",
       "      <th>0</th>\n",
       "      <td>7895500070</td>\n",
       "      <td>98001</td>\n",
       "      <td>240,000.0000</td>\n",
       "      <td>260,000.0000</td>\n",
       "      <td>2</td>\n",
       "      <td>winter</td>\n",
       "      <td>47.3341</td>\n",
       "      <td>-122.2820</td>\n",
       "      <td>no</td>\n",
       "    </tr>\n",
       "    <tr>\n",
       "      <th>1</th>\n",
       "      <td>3717000160</td>\n",
       "      <td>98001</td>\n",
       "      <td>287,000.0000</td>\n",
       "      <td>260,000.0000</td>\n",
       "      <td>3</td>\n",
       "      <td>fall</td>\n",
       "      <td>47.3378</td>\n",
       "      <td>-122.2570</td>\n",
       "      <td>no</td>\n",
       "    </tr>\n",
       "    <tr>\n",
       "      <th>2</th>\n",
       "      <td>8961960160</td>\n",
       "      <td>98001</td>\n",
       "      <td>480,000.0000</td>\n",
       "      <td>260,000.0000</td>\n",
       "      <td>3</td>\n",
       "      <td>fall</td>\n",
       "      <td>47.3183</td>\n",
       "      <td>-122.2530</td>\n",
       "      <td>no</td>\n",
       "    </tr>\n",
       "    <tr>\n",
       "      <th>3</th>\n",
       "      <td>4014400292</td>\n",
       "      <td>98001</td>\n",
       "      <td>465,000.0000</td>\n",
       "      <td>260,000.0000</td>\n",
       "      <td>3</td>\n",
       "      <td>winter</td>\n",
       "      <td>47.3185</td>\n",
       "      <td>-122.2750</td>\n",
       "      <td>no</td>\n",
       "    </tr>\n",
       "    <tr>\n",
       "      <th>4</th>\n",
       "      <td>1115450240</td>\n",
       "      <td>98001</td>\n",
       "      <td>360,000.0000</td>\n",
       "      <td>260,000.0000</td>\n",
       "      <td>3</td>\n",
       "      <td>fall</td>\n",
       "      <td>47.3341</td>\n",
       "      <td>-122.2550</td>\n",
       "      <td>no</td>\n",
       "    </tr>\n",
       "  </tbody>\n",
       "</table>\n",
       "</div>"
      ],
      "text/plain": [
       "           id  zipcode        price  price_median  condition  sesson     lat      long buy\n",
       "0  7895500070    98001 240,000.0000  260,000.0000          2  winter 47.3341 -122.2820  no\n",
       "1  3717000160    98001 287,000.0000  260,000.0000          3    fall 47.3378 -122.2570  no\n",
       "2  8961960160    98001 480,000.0000  260,000.0000          3    fall 47.3183 -122.2530  no\n",
       "3  4014400292    98001 465,000.0000  260,000.0000          3  winter 47.3185 -122.2750  no\n",
       "4  1115450240    98001 360,000.0000  260,000.0000          3    fall 47.3341 -122.2550  no"
      ]
     },
     "execution_count": 75,
     "metadata": {},
     "output_type": "execute_result"
    }
   ],
   "source": [
    "data_resume.head()"
   ]
  },
  {
   "cell_type": "code",
   "execution_count": 78,
   "id": "666e7c14",
   "metadata": {
    "ExecuteTime": {
     "end_time": "2021-07-12T13:17:27.032196Z",
     "start_time": "2021-07-12T13:17:26.482655Z"
    }
   },
   "outputs": [
    {
     "data": {
      "application/vnd.jupyter.widget-view+json": {
       "model_id": "c9f044c4cad24e87860b8714a713d07c",
       "version_major": 2,
       "version_minor": 0
      },
      "text/plain": [
       "interactive(children=(Dropdown(description='Buy', options=('no', 'yes'), value='no'), Output()), _dom_classes=…"
      ]
     },
     "metadata": {},
     "output_type": "display_data"
    }
   ],
   "source": [
    "# plotando mapa onde as casas estão \n",
    "\n",
    "# criando um widgets para selecionar as casas do mapa para comprar ou nao\n",
    "fil_zip = widgets.Dropdown(options = data_resume['buy'].unique().tolist(),\n",
    "                       description = 'Buy',\n",
    "                       disabled = False)\n",
    "\n",
    "\n",
    "def  update_map (data, fil_zip):\n",
    "    # selecionando apenas as colunas e criando um data set novo com essas colunas\n",
    "    house = data_resume[(data_resume['buy'] == fil_zip)][['id', 'lat', 'long', 'condition', 'buy', 'price']] \n",
    "\n",
    "    # plotando o mapa\n",
    "    mapa = px.scatter_mapbox(house, lat = 'lat', lon = 'long',  \n",
    "                         size = 'price',\n",
    "                         color = 'condition', opacity = 0.5, zoom = 10 )\n",
    "    \n",
    "\n",
    "    mapa.update_layout( mapbox_style = 'open-street-map')\n",
    "    mapa.update_layout( height = 600, margin = {'b':0, 't':0, 'r':0, 'l': 0})\n",
    "    mapa.show()\n",
    "    \n",
    "    return None\n",
    "    \n",
    "widgets.interactive( update_map, data = fixed(data_resume), fil_zip  = fil_zip)\n"
   ]
  },
  {
   "cell_type": "code",
   "execution_count": 63,
   "id": "168b5c73",
   "metadata": {
    "ExecuteTime": {
     "end_time": "2021-07-12T12:36:09.012787Z",
     "start_time": "2021-07-12T12:36:08.977955Z"
    }
   },
   "outputs": [],
   "source": [
    "# Uma vez comprado, qual é o melhor momento para vendê-lo e por qual preço?\n",
    "data_resume2 = data_resume.copy()\n",
    "\n",
    "# selecionando apenas as linhas com buy = yes\n",
    "data_resume2 = data_resume2[data_resume2['buy']=='yes']\n",
    "\n",
    "# mediana do preço para cada estação dentro de cada zipcode\n",
    "df_buy_sell = data_resume2[['sesson', 'zipcode', 'price']].groupby(['zipcode', 'sesson']).median().reset_index()\n",
    "\n",
    "# juntando os dataset com as colunas do nosso interesse \n",
    "df_buy_sell_final = pd.merge(data_resume2, df_buy_sell, on='zipcode', how = 'inner')\n",
    "\n",
    "# renomeando as colunas do dataset final \n",
    "df_buy_sell_final = df_buy_sell_final.rename(columns = {'price_x' : 'price', 'sesson_x': 'season', 'sesson_y': 'season_meadian', 'price_y':'price_median_season'} )"
   ]
  },
  {
   "cell_type": "code",
   "execution_count": 64,
   "id": "1f738c87",
   "metadata": {
    "ExecuteTime": {
     "end_time": "2021-07-12T12:36:10.557825Z",
     "start_time": "2021-07-12T12:36:10.532667Z"
    }
   },
   "outputs": [
    {
     "data": {
      "text/html": [
       "<div>\n",
       "<style scoped>\n",
       "    .dataframe tbody tr th:only-of-type {\n",
       "        vertical-align: middle;\n",
       "    }\n",
       "\n",
       "    .dataframe tbody tr th {\n",
       "        vertical-align: top;\n",
       "    }\n",
       "\n",
       "    .dataframe thead th {\n",
       "        text-align: right;\n",
       "    }\n",
       "</style>\n",
       "<table border=\"1\" class=\"dataframe\">\n",
       "  <thead>\n",
       "    <tr style=\"text-align: right;\">\n",
       "      <th></th>\n",
       "      <th>id</th>\n",
       "      <th>zipcode</th>\n",
       "      <th>price</th>\n",
       "      <th>price_median</th>\n",
       "      <th>condition</th>\n",
       "      <th>sesson</th>\n",
       "      <th>buy</th>\n",
       "    </tr>\n",
       "  </thead>\n",
       "  <tbody>\n",
       "    <tr>\n",
       "      <th>6</th>\n",
       "      <td>9262800171</td>\n",
       "      <td>98001</td>\n",
       "      <td>252,000.0000</td>\n",
       "      <td>260,000.0000</td>\n",
       "      <td>4</td>\n",
       "      <td>spring</td>\n",
       "      <td>yes</td>\n",
       "    </tr>\n",
       "    <tr>\n",
       "      <th>7</th>\n",
       "      <td>3353401710</td>\n",
       "      <td>98001</td>\n",
       "      <td>227,950.0000</td>\n",
       "      <td>260,000.0000</td>\n",
       "      <td>5</td>\n",
       "      <td>fall</td>\n",
       "      <td>yes</td>\n",
       "    </tr>\n",
       "    <tr>\n",
       "      <th>10</th>\n",
       "      <td>7967200060</td>\n",
       "      <td>98001</td>\n",
       "      <td>243,000.0000</td>\n",
       "      <td>260,000.0000</td>\n",
       "      <td>4</td>\n",
       "      <td>fall</td>\n",
       "      <td>yes</td>\n",
       "    </tr>\n",
       "    <tr>\n",
       "      <th>12</th>\n",
       "      <td>5066400483</td>\n",
       "      <td>98001</td>\n",
       "      <td>249,900.0000</td>\n",
       "      <td>260,000.0000</td>\n",
       "      <td>4</td>\n",
       "      <td>fall</td>\n",
       "      <td>yes</td>\n",
       "    </tr>\n",
       "    <tr>\n",
       "      <th>17</th>\n",
       "      <td>3353400860</td>\n",
       "      <td>98001</td>\n",
       "      <td>249,900.0000</td>\n",
       "      <td>260,000.0000</td>\n",
       "      <td>5</td>\n",
       "      <td>summer</td>\n",
       "      <td>yes</td>\n",
       "    </tr>\n",
       "    <tr>\n",
       "      <th>29</th>\n",
       "      <td>5402100045</td>\n",
       "      <td>98001</td>\n",
       "      <td>189,950.0000</td>\n",
       "      <td>260,000.0000</td>\n",
       "      <td>4</td>\n",
       "      <td>spring</td>\n",
       "      <td>yes</td>\n",
       "    </tr>\n",
       "    <tr>\n",
       "      <th>39</th>\n",
       "      <td>5556800260</td>\n",
       "      <td>98001</td>\n",
       "      <td>230,000.0000</td>\n",
       "      <td>260,000.0000</td>\n",
       "      <td>4</td>\n",
       "      <td>spring</td>\n",
       "      <td>yes</td>\n",
       "    </tr>\n",
       "    <tr>\n",
       "      <th>41</th>\n",
       "      <td>303000445</td>\n",
       "      <td>98001</td>\n",
       "      <td>175,000.0000</td>\n",
       "      <td>260,000.0000</td>\n",
       "      <td>5</td>\n",
       "      <td>spring</td>\n",
       "      <td>yes</td>\n",
       "    </tr>\n",
       "    <tr>\n",
       "      <th>50</th>\n",
       "      <td>3750605349</td>\n",
       "      <td>98001</td>\n",
       "      <td>210,500.0000</td>\n",
       "      <td>260,000.0000</td>\n",
       "      <td>5</td>\n",
       "      <td>spring</td>\n",
       "      <td>yes</td>\n",
       "    </tr>\n",
       "    <tr>\n",
       "      <th>58</th>\n",
       "      <td>2721049059</td>\n",
       "      <td>98001</td>\n",
       "      <td>225,000.0000</td>\n",
       "      <td>260,000.0000</td>\n",
       "      <td>4</td>\n",
       "      <td>spring</td>\n",
       "      <td>yes</td>\n",
       "    </tr>\n",
       "  </tbody>\n",
       "</table>\n",
       "</div>"
      ],
      "text/plain": [
       "            id  zipcode        price  price_median  condition  sesson  buy\n",
       "6   9262800171    98001 252,000.0000  260,000.0000          4  spring  yes\n",
       "7   3353401710    98001 227,950.0000  260,000.0000          5    fall  yes\n",
       "10  7967200060    98001 243,000.0000  260,000.0000          4    fall  yes\n",
       "12  5066400483    98001 249,900.0000  260,000.0000          4    fall  yes\n",
       "17  3353400860    98001 249,900.0000  260,000.0000          5  summer  yes\n",
       "29  5402100045    98001 189,950.0000  260,000.0000          4  spring  yes\n",
       "39  5556800260    98001 230,000.0000  260,000.0000          4  spring  yes\n",
       "41   303000445    98001 175,000.0000  260,000.0000          5  spring  yes\n",
       "50  3750605349    98001 210,500.0000  260,000.0000          5  spring  yes\n",
       "58  2721049059    98001 225,000.0000  260,000.0000          4  spring  yes"
      ]
     },
     "execution_count": 64,
     "metadata": {},
     "output_type": "execute_result"
    }
   ],
   "source": [
    "data_resume2.head(10)"
   ]
  },
  {
   "cell_type": "code",
   "execution_count": 65,
   "id": "c3d26577",
   "metadata": {
    "ExecuteTime": {
     "end_time": "2021-07-12T12:36:11.997783Z",
     "start_time": "2021-07-12T12:36:11.977005Z"
    }
   },
   "outputs": [
    {
     "data": {
      "text/html": [
       "<div>\n",
       "<style scoped>\n",
       "    .dataframe tbody tr th:only-of-type {\n",
       "        vertical-align: middle;\n",
       "    }\n",
       "\n",
       "    .dataframe tbody tr th {\n",
       "        vertical-align: top;\n",
       "    }\n",
       "\n",
       "    .dataframe thead th {\n",
       "        text-align: right;\n",
       "    }\n",
       "</style>\n",
       "<table border=\"1\" class=\"dataframe\">\n",
       "  <thead>\n",
       "    <tr style=\"text-align: right;\">\n",
       "      <th></th>\n",
       "      <th>zipcode</th>\n",
       "      <th>sesson</th>\n",
       "      <th>price</th>\n",
       "    </tr>\n",
       "  </thead>\n",
       "  <tbody>\n",
       "    <tr>\n",
       "      <th>0</th>\n",
       "      <td>98001</td>\n",
       "      <td>fall</td>\n",
       "      <td>228,725.0000</td>\n",
       "    </tr>\n",
       "    <tr>\n",
       "      <th>1</th>\n",
       "      <td>98001</td>\n",
       "      <td>spring</td>\n",
       "      <td>212,750.0000</td>\n",
       "    </tr>\n",
       "    <tr>\n",
       "      <th>2</th>\n",
       "      <td>98001</td>\n",
       "      <td>summer</td>\n",
       "      <td>202,750.0000</td>\n",
       "    </tr>\n",
       "    <tr>\n",
       "      <th>3</th>\n",
       "      <td>98001</td>\n",
       "      <td>winter</td>\n",
       "      <td>231,500.0000</td>\n",
       "    </tr>\n",
       "    <tr>\n",
       "      <th>4</th>\n",
       "      <td>98002</td>\n",
       "      <td>fall</td>\n",
       "      <td>196,250.0000</td>\n",
       "    </tr>\n",
       "    <tr>\n",
       "      <th>5</th>\n",
       "      <td>98002</td>\n",
       "      <td>spring</td>\n",
       "      <td>206,500.0000</td>\n",
       "    </tr>\n",
       "    <tr>\n",
       "      <th>6</th>\n",
       "      <td>98002</td>\n",
       "      <td>summer</td>\n",
       "      <td>209,950.0000</td>\n",
       "    </tr>\n",
       "    <tr>\n",
       "      <th>7</th>\n",
       "      <td>98002</td>\n",
       "      <td>winter</td>\n",
       "      <td>189,000.0000</td>\n",
       "    </tr>\n",
       "    <tr>\n",
       "      <th>8</th>\n",
       "      <td>98003</td>\n",
       "      <td>fall</td>\n",
       "      <td>215,000.0000</td>\n",
       "    </tr>\n",
       "    <tr>\n",
       "      <th>9</th>\n",
       "      <td>98003</td>\n",
       "      <td>spring</td>\n",
       "      <td>230,000.0000</td>\n",
       "    </tr>\n",
       "  </tbody>\n",
       "</table>\n",
       "</div>"
      ],
      "text/plain": [
       "   zipcode  sesson        price\n",
       "0    98001    fall 228,725.0000\n",
       "1    98001  spring 212,750.0000\n",
       "2    98001  summer 202,750.0000\n",
       "3    98001  winter 231,500.0000\n",
       "4    98002    fall 196,250.0000\n",
       "5    98002  spring 206,500.0000\n",
       "6    98002  summer 209,950.0000\n",
       "7    98002  winter 189,000.0000\n",
       "8    98003    fall 215,000.0000\n",
       "9    98003  spring 230,000.0000"
      ]
     },
     "execution_count": 65,
     "metadata": {},
     "output_type": "execute_result"
    }
   ],
   "source": [
    "df_buy_sell.head(10)"
   ]
  },
  {
   "cell_type": "code",
   "execution_count": 66,
   "id": "f0219a32",
   "metadata": {
    "ExecuteTime": {
     "end_time": "2021-07-12T12:36:14.791151Z",
     "start_time": "2021-07-12T12:36:14.769635Z"
    }
   },
   "outputs": [
    {
     "data": {
      "text/html": [
       "<div>\n",
       "<style scoped>\n",
       "    .dataframe tbody tr th:only-of-type {\n",
       "        vertical-align: middle;\n",
       "    }\n",
       "\n",
       "    .dataframe tbody tr th {\n",
       "        vertical-align: top;\n",
       "    }\n",
       "\n",
       "    .dataframe thead th {\n",
       "        text-align: right;\n",
       "    }\n",
       "</style>\n",
       "<table border=\"1\" class=\"dataframe\">\n",
       "  <thead>\n",
       "    <tr style=\"text-align: right;\">\n",
       "      <th></th>\n",
       "      <th>id</th>\n",
       "      <th>zipcode</th>\n",
       "      <th>price</th>\n",
       "      <th>price_median</th>\n",
       "      <th>condition</th>\n",
       "      <th>season</th>\n",
       "      <th>buy</th>\n",
       "      <th>season_meadian</th>\n",
       "      <th>price_median_season</th>\n",
       "    </tr>\n",
       "  </thead>\n",
       "  <tbody>\n",
       "    <tr>\n",
       "      <th>0</th>\n",
       "      <td>9262800171</td>\n",
       "      <td>98001</td>\n",
       "      <td>252,000.0000</td>\n",
       "      <td>260,000.0000</td>\n",
       "      <td>4</td>\n",
       "      <td>spring</td>\n",
       "      <td>yes</td>\n",
       "      <td>fall</td>\n",
       "      <td>228,725.0000</td>\n",
       "    </tr>\n",
       "    <tr>\n",
       "      <th>1</th>\n",
       "      <td>9262800171</td>\n",
       "      <td>98001</td>\n",
       "      <td>252,000.0000</td>\n",
       "      <td>260,000.0000</td>\n",
       "      <td>4</td>\n",
       "      <td>spring</td>\n",
       "      <td>yes</td>\n",
       "      <td>spring</td>\n",
       "      <td>212,750.0000</td>\n",
       "    </tr>\n",
       "    <tr>\n",
       "      <th>2</th>\n",
       "      <td>9262800171</td>\n",
       "      <td>98001</td>\n",
       "      <td>252,000.0000</td>\n",
       "      <td>260,000.0000</td>\n",
       "      <td>4</td>\n",
       "      <td>spring</td>\n",
       "      <td>yes</td>\n",
       "      <td>summer</td>\n",
       "      <td>202,750.0000</td>\n",
       "    </tr>\n",
       "    <tr>\n",
       "      <th>3</th>\n",
       "      <td>9262800171</td>\n",
       "      <td>98001</td>\n",
       "      <td>252,000.0000</td>\n",
       "      <td>260,000.0000</td>\n",
       "      <td>4</td>\n",
       "      <td>spring</td>\n",
       "      <td>yes</td>\n",
       "      <td>winter</td>\n",
       "      <td>231,500.0000</td>\n",
       "    </tr>\n",
       "    <tr>\n",
       "      <th>4</th>\n",
       "      <td>3353401710</td>\n",
       "      <td>98001</td>\n",
       "      <td>227,950.0000</td>\n",
       "      <td>260,000.0000</td>\n",
       "      <td>5</td>\n",
       "      <td>fall</td>\n",
       "      <td>yes</td>\n",
       "      <td>fall</td>\n",
       "      <td>228,725.0000</td>\n",
       "    </tr>\n",
       "  </tbody>\n",
       "</table>\n",
       "</div>"
      ],
      "text/plain": [
       "           id  zipcode        price  price_median  condition  season  buy season_meadian  price_median_season\n",
       "0  9262800171    98001 252,000.0000  260,000.0000          4  spring  yes           fall         228,725.0000\n",
       "1  9262800171    98001 252,000.0000  260,000.0000          4  spring  yes         spring         212,750.0000\n",
       "2  9262800171    98001 252,000.0000  260,000.0000          4  spring  yes         summer         202,750.0000\n",
       "3  9262800171    98001 252,000.0000  260,000.0000          4  spring  yes         winter         231,500.0000\n",
       "4  3353401710    98001 227,950.0000  260,000.0000          5    fall  yes           fall         228,725.0000"
      ]
     },
     "execution_count": 66,
     "metadata": {},
     "output_type": "execute_result"
    }
   ],
   "source": [
    "df_buy_sell_final.head()"
   ]
  },
  {
   "cell_type": "code",
   "execution_count": 67,
   "id": "1b55eef1",
   "metadata": {
    "ExecuteTime": {
     "end_time": "2021-07-12T12:42:30.848846Z",
     "start_time": "2021-07-12T12:42:20.856327Z"
    }
   },
   "outputs": [],
   "source": [
    "# estipulando o preço de venda para cada imóvel \n",
    "for i, row in df_buy_sell_final.iterrows():\n",
    "    \n",
    "    if (row['price_median_season'] > row['price']):\n",
    "        df_buy_sell_final.loc[i, 'sale'] =  row['price'] * 1.1\n",
    "        \n",
    "    else:\n",
    "        df_buy_sell_final.loc[i, 'sale'] = row['price'] * 1.3"
   ]
  },
  {
   "cell_type": "code",
   "execution_count": 68,
   "id": "6880d615",
   "metadata": {
    "ExecuteTime": {
     "end_time": "2021-07-12T12:42:30.874349Z",
     "start_time": "2021-07-12T12:42:30.852161Z"
    }
   },
   "outputs": [
    {
     "data": {
      "text/html": [
       "<div>\n",
       "<style scoped>\n",
       "    .dataframe tbody tr th:only-of-type {\n",
       "        vertical-align: middle;\n",
       "    }\n",
       "\n",
       "    .dataframe tbody tr th {\n",
       "        vertical-align: top;\n",
       "    }\n",
       "\n",
       "    .dataframe thead th {\n",
       "        text-align: right;\n",
       "    }\n",
       "</style>\n",
       "<table border=\"1\" class=\"dataframe\">\n",
       "  <thead>\n",
       "    <tr style=\"text-align: right;\">\n",
       "      <th></th>\n",
       "      <th>id</th>\n",
       "      <th>zipcode</th>\n",
       "      <th>price</th>\n",
       "      <th>price_median</th>\n",
       "      <th>condition</th>\n",
       "      <th>season</th>\n",
       "      <th>buy</th>\n",
       "      <th>season_meadian</th>\n",
       "      <th>price_median_season</th>\n",
       "      <th>sale</th>\n",
       "    </tr>\n",
       "  </thead>\n",
       "  <tbody>\n",
       "    <tr>\n",
       "      <th>0</th>\n",
       "      <td>9262800171</td>\n",
       "      <td>98001</td>\n",
       "      <td>252,000.0000</td>\n",
       "      <td>260,000.0000</td>\n",
       "      <td>4</td>\n",
       "      <td>spring</td>\n",
       "      <td>yes</td>\n",
       "      <td>fall</td>\n",
       "      <td>228,725.0000</td>\n",
       "      <td>327,600.0000</td>\n",
       "    </tr>\n",
       "    <tr>\n",
       "      <th>1</th>\n",
       "      <td>9262800171</td>\n",
       "      <td>98001</td>\n",
       "      <td>252,000.0000</td>\n",
       "      <td>260,000.0000</td>\n",
       "      <td>4</td>\n",
       "      <td>spring</td>\n",
       "      <td>yes</td>\n",
       "      <td>spring</td>\n",
       "      <td>212,750.0000</td>\n",
       "      <td>327,600.0000</td>\n",
       "    </tr>\n",
       "    <tr>\n",
       "      <th>2</th>\n",
       "      <td>9262800171</td>\n",
       "      <td>98001</td>\n",
       "      <td>252,000.0000</td>\n",
       "      <td>260,000.0000</td>\n",
       "      <td>4</td>\n",
       "      <td>spring</td>\n",
       "      <td>yes</td>\n",
       "      <td>summer</td>\n",
       "      <td>202,750.0000</td>\n",
       "      <td>327,600.0000</td>\n",
       "    </tr>\n",
       "    <tr>\n",
       "      <th>3</th>\n",
       "      <td>9262800171</td>\n",
       "      <td>98001</td>\n",
       "      <td>252,000.0000</td>\n",
       "      <td>260,000.0000</td>\n",
       "      <td>4</td>\n",
       "      <td>spring</td>\n",
       "      <td>yes</td>\n",
       "      <td>winter</td>\n",
       "      <td>231,500.0000</td>\n",
       "      <td>327,600.0000</td>\n",
       "    </tr>\n",
       "    <tr>\n",
       "      <th>4</th>\n",
       "      <td>3353401710</td>\n",
       "      <td>98001</td>\n",
       "      <td>227,950.0000</td>\n",
       "      <td>260,000.0000</td>\n",
       "      <td>5</td>\n",
       "      <td>fall</td>\n",
       "      <td>yes</td>\n",
       "      <td>fall</td>\n",
       "      <td>228,725.0000</td>\n",
       "      <td>250,745.0000</td>\n",
       "    </tr>\n",
       "  </tbody>\n",
       "</table>\n",
       "</div>"
      ],
      "text/plain": [
       "           id  zipcode        price  price_median  condition  season  buy season_meadian  price_median_season         sale\n",
       "0  9262800171    98001 252,000.0000  260,000.0000          4  spring  yes           fall         228,725.0000 327,600.0000\n",
       "1  9262800171    98001 252,000.0000  260,000.0000          4  spring  yes         spring         212,750.0000 327,600.0000\n",
       "2  9262800171    98001 252,000.0000  260,000.0000          4  spring  yes         summer         202,750.0000 327,600.0000\n",
       "3  9262800171    98001 252,000.0000  260,000.0000          4  spring  yes         winter         231,500.0000 327,600.0000\n",
       "4  3353401710    98001 227,950.0000  260,000.0000          5    fall  yes           fall         228,725.0000 250,745.0000"
      ]
     },
     "execution_count": 68,
     "metadata": {},
     "output_type": "execute_result"
    }
   ],
   "source": [
    "df_buy_sell_final.head()"
   ]
  },
  {
   "cell_type": "code",
   "execution_count": 69,
   "id": "f52a087c",
   "metadata": {
    "ExecuteTime": {
     "end_time": "2021-07-12T12:43:10.639932Z",
     "start_time": "2021-07-12T12:43:10.512563Z"
    }
   },
   "outputs": [],
   "source": [
    "# calculo da coluna lucro\n",
    "df_buy_sell_final['lucro'] = df_buy_sell_final['sale'] - df_buy_sell_final['price']"
   ]
  },
  {
   "cell_type": "code",
   "execution_count": 70,
   "id": "1fe20cef",
   "metadata": {
    "ExecuteTime": {
     "end_time": "2021-07-12T12:43:17.200135Z",
     "start_time": "2021-07-12T12:43:17.173925Z"
    }
   },
   "outputs": [
    {
     "data": {
      "text/html": [
       "<div>\n",
       "<style scoped>\n",
       "    .dataframe tbody tr th:only-of-type {\n",
       "        vertical-align: middle;\n",
       "    }\n",
       "\n",
       "    .dataframe tbody tr th {\n",
       "        vertical-align: top;\n",
       "    }\n",
       "\n",
       "    .dataframe thead th {\n",
       "        text-align: right;\n",
       "    }\n",
       "</style>\n",
       "<table border=\"1\" class=\"dataframe\">\n",
       "  <thead>\n",
       "    <tr style=\"text-align: right;\">\n",
       "      <th></th>\n",
       "      <th>id</th>\n",
       "      <th>zipcode</th>\n",
       "      <th>price</th>\n",
       "      <th>price_median</th>\n",
       "      <th>condition</th>\n",
       "      <th>season</th>\n",
       "      <th>buy</th>\n",
       "      <th>season_meadian</th>\n",
       "      <th>price_median_season</th>\n",
       "      <th>sale</th>\n",
       "      <th>lucro</th>\n",
       "    </tr>\n",
       "  </thead>\n",
       "  <tbody>\n",
       "    <tr>\n",
       "      <th>0</th>\n",
       "      <td>9262800171</td>\n",
       "      <td>98001</td>\n",
       "      <td>252,000.0000</td>\n",
       "      <td>260,000.0000</td>\n",
       "      <td>4</td>\n",
       "      <td>spring</td>\n",
       "      <td>yes</td>\n",
       "      <td>fall</td>\n",
       "      <td>228,725.0000</td>\n",
       "      <td>327,600.0000</td>\n",
       "      <td>75,600.0000</td>\n",
       "    </tr>\n",
       "    <tr>\n",
       "      <th>1</th>\n",
       "      <td>9262800171</td>\n",
       "      <td>98001</td>\n",
       "      <td>252,000.0000</td>\n",
       "      <td>260,000.0000</td>\n",
       "      <td>4</td>\n",
       "      <td>spring</td>\n",
       "      <td>yes</td>\n",
       "      <td>spring</td>\n",
       "      <td>212,750.0000</td>\n",
       "      <td>327,600.0000</td>\n",
       "      <td>75,600.0000</td>\n",
       "    </tr>\n",
       "    <tr>\n",
       "      <th>2</th>\n",
       "      <td>9262800171</td>\n",
       "      <td>98001</td>\n",
       "      <td>252,000.0000</td>\n",
       "      <td>260,000.0000</td>\n",
       "      <td>4</td>\n",
       "      <td>spring</td>\n",
       "      <td>yes</td>\n",
       "      <td>summer</td>\n",
       "      <td>202,750.0000</td>\n",
       "      <td>327,600.0000</td>\n",
       "      <td>75,600.0000</td>\n",
       "    </tr>\n",
       "    <tr>\n",
       "      <th>3</th>\n",
       "      <td>9262800171</td>\n",
       "      <td>98001</td>\n",
       "      <td>252,000.0000</td>\n",
       "      <td>260,000.0000</td>\n",
       "      <td>4</td>\n",
       "      <td>spring</td>\n",
       "      <td>yes</td>\n",
       "      <td>winter</td>\n",
       "      <td>231,500.0000</td>\n",
       "      <td>327,600.0000</td>\n",
       "      <td>75,600.0000</td>\n",
       "    </tr>\n",
       "    <tr>\n",
       "      <th>4</th>\n",
       "      <td>3353401710</td>\n",
       "      <td>98001</td>\n",
       "      <td>227,950.0000</td>\n",
       "      <td>260,000.0000</td>\n",
       "      <td>5</td>\n",
       "      <td>fall</td>\n",
       "      <td>yes</td>\n",
       "      <td>fall</td>\n",
       "      <td>228,725.0000</td>\n",
       "      <td>250,745.0000</td>\n",
       "      <td>22,795.0000</td>\n",
       "    </tr>\n",
       "    <tr>\n",
       "      <th>5</th>\n",
       "      <td>3353401710</td>\n",
       "      <td>98001</td>\n",
       "      <td>227,950.0000</td>\n",
       "      <td>260,000.0000</td>\n",
       "      <td>5</td>\n",
       "      <td>fall</td>\n",
       "      <td>yes</td>\n",
       "      <td>spring</td>\n",
       "      <td>212,750.0000</td>\n",
       "      <td>296,335.0000</td>\n",
       "      <td>68,385.0000</td>\n",
       "    </tr>\n",
       "    <tr>\n",
       "      <th>6</th>\n",
       "      <td>3353401710</td>\n",
       "      <td>98001</td>\n",
       "      <td>227,950.0000</td>\n",
       "      <td>260,000.0000</td>\n",
       "      <td>5</td>\n",
       "      <td>fall</td>\n",
       "      <td>yes</td>\n",
       "      <td>summer</td>\n",
       "      <td>202,750.0000</td>\n",
       "      <td>296,335.0000</td>\n",
       "      <td>68,385.0000</td>\n",
       "    </tr>\n",
       "    <tr>\n",
       "      <th>7</th>\n",
       "      <td>3353401710</td>\n",
       "      <td>98001</td>\n",
       "      <td>227,950.0000</td>\n",
       "      <td>260,000.0000</td>\n",
       "      <td>5</td>\n",
       "      <td>fall</td>\n",
       "      <td>yes</td>\n",
       "      <td>winter</td>\n",
       "      <td>231,500.0000</td>\n",
       "      <td>250,745.0000</td>\n",
       "      <td>22,795.0000</td>\n",
       "    </tr>\n",
       "    <tr>\n",
       "      <th>8</th>\n",
       "      <td>7967200060</td>\n",
       "      <td>98001</td>\n",
       "      <td>243,000.0000</td>\n",
       "      <td>260,000.0000</td>\n",
       "      <td>4</td>\n",
       "      <td>fall</td>\n",
       "      <td>yes</td>\n",
       "      <td>fall</td>\n",
       "      <td>228,725.0000</td>\n",
       "      <td>315,900.0000</td>\n",
       "      <td>72,900.0000</td>\n",
       "    </tr>\n",
       "    <tr>\n",
       "      <th>9</th>\n",
       "      <td>7967200060</td>\n",
       "      <td>98001</td>\n",
       "      <td>243,000.0000</td>\n",
       "      <td>260,000.0000</td>\n",
       "      <td>4</td>\n",
       "      <td>fall</td>\n",
       "      <td>yes</td>\n",
       "      <td>spring</td>\n",
       "      <td>212,750.0000</td>\n",
       "      <td>315,900.0000</td>\n",
       "      <td>72,900.0000</td>\n",
       "    </tr>\n",
       "  </tbody>\n",
       "</table>\n",
       "</div>"
      ],
      "text/plain": [
       "           id  zipcode        price  price_median  condition  season  buy season_meadian  price_median_season         sale       lucro\n",
       "0  9262800171    98001 252,000.0000  260,000.0000          4  spring  yes           fall         228,725.0000 327,600.0000 75,600.0000\n",
       "1  9262800171    98001 252,000.0000  260,000.0000          4  spring  yes         spring         212,750.0000 327,600.0000 75,600.0000\n",
       "2  9262800171    98001 252,000.0000  260,000.0000          4  spring  yes         summer         202,750.0000 327,600.0000 75,600.0000\n",
       "3  9262800171    98001 252,000.0000  260,000.0000          4  spring  yes         winter         231,500.0000 327,600.0000 75,600.0000\n",
       "4  3353401710    98001 227,950.0000  260,000.0000          5    fall  yes           fall         228,725.0000 250,745.0000 22,795.0000\n",
       "5  3353401710    98001 227,950.0000  260,000.0000          5    fall  yes         spring         212,750.0000 296,335.0000 68,385.0000\n",
       "6  3353401710    98001 227,950.0000  260,000.0000          5    fall  yes         summer         202,750.0000 296,335.0000 68,385.0000\n",
       "7  3353401710    98001 227,950.0000  260,000.0000          5    fall  yes         winter         231,500.0000 250,745.0000 22,795.0000\n",
       "8  7967200060    98001 243,000.0000  260,000.0000          4    fall  yes           fall         228,725.0000 315,900.0000 72,900.0000\n",
       "9  7967200060    98001 243,000.0000  260,000.0000          4    fall  yes         spring         212,750.0000 315,900.0000 72,900.0000"
      ]
     },
     "execution_count": 70,
     "metadata": {},
     "output_type": "execute_result"
    }
   ],
   "source": [
    "df_buy_sell_final.head(10)"
   ]
  },
  {
   "cell_type": "code",
   "execution_count": 71,
   "id": "a15de110",
   "metadata": {
    "ExecuteTime": {
     "end_time": "2021-07-12T12:43:31.436071Z",
     "start_time": "2021-07-12T12:43:31.428560Z"
    }
   },
   "outputs": [
    {
     "data": {
      "text/plain": [
       "1300434878.8000002"
      ]
     },
     "execution_count": 71,
     "metadata": {},
     "output_type": "execute_result"
    }
   ],
   "source": [
    "# lucro total para a empresa\n",
    "df_buy_sell_final['lucro'].sum()"
   ]
  },
  {
   "cell_type": "code",
   "execution_count": 73,
   "id": "a7bf6139",
   "metadata": {
    "ExecuteTime": {
     "end_time": "2021-07-12T12:54:05.954331Z",
     "start_time": "2021-07-12T12:53:06.247351Z"
    }
   },
   "outputs": [
    {
     "data": {
      "text/plain": [
       "Text(0.5, 0, 'Season')"
      ]
     },
     "execution_count": 73,
     "metadata": {},
     "output_type": "execute_result"
    },
    {
     "data": {
      "image/png": "[encoded data removed]",
      "text/plain": [
       "<Figure size 576x360 with 1 Axes>"
      ]
     },
     "metadata": {
      "image/png": {
       "height": 326,
       "width": 493
      },
      "needs_background": "light"
     },
     "output_type": "display_data"
    }
   ],
   "source": [
    "plt.bar(df_buy_sell_final['season'], df_buy_sell_final['sale']);\n",
    "plt.ylabel('Sale')\n",
    "plt.xlabel('Season')"
   ]
  },
  {
   "cell_type": "code",
   "execution_count": null,
   "id": "daf6f217",
   "metadata": {},
   "outputs": [],
   "source": []
  }
 ],
 "metadata": {
  "kernelspec": {
   "display_name": "Python 3",
   "language": "python",
   "name": "python3"
  },
  "language_info": {
   "codemirror_mode": {
    "name": "ipython",
    "version": 3
   },
   "file_extension": ".py",
   "mimetype": "text/x-python",
   "name": "python",
   "nbconvert_exporter": "python",
   "pygments_lexer": "ipython3",
   "version": "3.8.10"
  },
  "toc": {
   "base_numbering": 1,
   "nav_menu": {},
   "number_sections": true,
   "sideBar": true,
   "skip_h1_title": false,
   "title_cell": "Table of Contents",
   "title_sidebar": "Contents",
   "toc_cell": false,
   "toc_position": {},
   "toc_section_display": true,
   "toc_window_display": false
  }
 },
 "nbformat": 4,
 "nbformat_minor": 5
}
